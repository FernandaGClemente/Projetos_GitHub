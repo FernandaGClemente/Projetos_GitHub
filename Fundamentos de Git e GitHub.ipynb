{
 "cells": [
  {
   "cell_type": "markdown",
   "id": "eef5a69d",
   "metadata": {},
   "source": [
    "<center><img width=\"25%\" src=\"https://www.camaramirimdoce.sc.gov.br/media/noticia/resumo-da-sessao-10-06-2019-111.png?w=848&h=450&t=P&c=f0f0f0&q=80&v=2\"></center>\n",
    "\n",
    "---\n",
    "\n",
    "<br>\n",
    "\n",
    "# Fundamentos de Git e GitHub\n",
    "\n",
    "<br>"
   ]
  },
  {
   "cell_type": "markdown",
   "id": "7188777a",
   "metadata": {},
   "source": [
    "# **<u>Sumário:</u>**\n",
    "1. [Introdução](#Introdução)\n",
    "2. [Tipos de Sistemas de Controle de Versão](#Tipos-de-Sistemas-de-Controle-de-Versão)\n",
    "3. [Repositórios](#Repositórios)\n",
    "4. [Principais vantagens do GIT](#Principais-vantagens-do-GIT)\n",
    "5. [Principais vantagens do GITHUB](#Principais-vantagens-do-GITHUB)\n",
    "6. [Outros repositórios públicos](#Outros-repositórios-públicos)\n",
    "7. [Sistema de três estados](#Sistema-de-três-estados)"
   ]
  },
  {
   "cell_type": "markdown",
   "id": "e7fc9fe7",
   "metadata": {},
   "source": [
    "# Introdução \n",
    "[(Voltar para o sumário)](#Sumário:)"
   ]
  },
  {
   "cell_type": "markdown",
   "id": "5e11f0ec",
   "metadata": {},
   "source": [
    "GIT é uma ferramenta de gerenciamento de versões ( Versionamento de código / Software de controle de versão [ DVCS ] distribuido) \n",
    "\n",
    "<br>\n",
    "\n",
    "Usado para gerenciar códigos grandes, vários usuários utilizando o mesmo código e versões paralelas (testes e produção). \n",
    "\n",
    "<br>\n",
    "\n",
    "O Git é responsável por tudo relacionado ao GitHub que acontece localmente no seu computador."
   ]
  },
  {
   "cell_type": "markdown",
   "id": "570700dc",
   "metadata": {},
   "source": [
    "O GitHub é uma plataforma de nuvem que usa o Git como sua tecnologia principal. Ele simplifica o processo de colaboração em projetos e fornece um site, ferramentas de linha de comando e um fluxo geral que permite que os desenvolvedores e usuários trabalhem juntos. "
   ]
  },
  {
   "cell_type": "markdown",
   "id": "fb98bf06",
   "metadata": {},
   "source": [
    "# Tipos de Sistemas de Controle de Versão  \n",
    "[(Voltar para o sumário)](#Sumário:)"
   ]
  },
  {
   "cell_type": "markdown",
   "id": "9d1e8ba7",
   "metadata": {},
   "source": [
    "* Software de controle de versão - Local / Linear <br>\n",
    "Exemplos: SOURCE CODE CONTROL SYSTEM (SCCS) E REVISION CONTROL SYSTEM (RCS) – OPEN SOURCE\n",
    "\n",
    "<br>\n",
    "\n",
    "* Software de controle de versão - Centralizado / Linear (Cliente-Servidor) <br>\n",
    "Exemplos: CA SOFTWARE CHANGE MANAGER (CCC), PERFORCE, PANVALET, CONCURRENT VERSION SYSTEM (CVS), APACHE SUBVERSION (SVN), CLEAR CASE E VISUAL SOURCESAFE. \n",
    "\n",
    "<br>\n",
    "\n",
    "* Software de controle de versão Distribuído <br>\n",
    "Exemplos: MERCURIAL (DELTA), BAZAAR (SNAPSHOT), DARCS (DELTA), CODE CO-OP, GNVARCH, MONOTONE, FOSSIL, BITKEEPER (SNAPSHOT) E GIT (SNAPSHOT)."
   ]
  },
  {
   "cell_type": "markdown",
   "id": "4bf84ae9",
   "metadata": {},
   "source": [
    "# Repositórios  \n",
    "[(Voltar para o sumário)](#Sumário:)"
   ]
  },
  {
   "cell_type": "markdown",
   "id": "56e1fcfd",
   "metadata": {},
   "source": [
    "* REPOSITÓRIO ONLINE / REMOTO: Pasta onde fica os códigos criados no GitHub. Site = https://github.com\n",
    "* REPOSITÓRIO LOCAL / OFFLINE: Pasta onde fica os códigos criados no computador. Download do programa = https://desktop.github.com"
   ]
  },
  {
   "cell_type": "markdown",
   "id": "9db7e999",
   "metadata": {},
   "source": [
    "# Principais vantagens do GIT  \n",
    "[(Voltar para o sumário)](#Sumário:)"
   ]
  },
  {
   "cell_type": "markdown",
   "id": "71069262",
   "metadata": {},
   "source": [
    "* Controle de histórico\n",
    "* Trabalho em equipe\n",
    "* Ramificação do projeto\n",
    "* Segurança \n",
    "* Organização"
   ]
  },
  {
   "cell_type": "markdown",
   "id": "ddce59bd",
   "metadata": {},
   "source": [
    "# Principais vantagens do GITHUB\n",
    "[(Voltar para o sumário)](#Sumário:)"
   ]
  },
  {
   "cell_type": "markdown",
   "id": "92f467f4",
   "metadata": {},
   "source": [
    "* Repositórios ilimitados\n",
    "* Hospedagem de código-fonte\n",
    "* Características de Rede Social\n",
    "* Página GITHUB integrada\n",
    "* Colaboração\n",
    "* FORKS"
   ]
  },
  {
   "cell_type": "markdown",
   "id": "20636717",
   "metadata": {},
   "source": [
    "# Outros repositórios públicos\n",
    "[(Voltar para o sumário)](#Sumário:)"
   ]
  },
  {
   "cell_type": "markdown",
   "id": "b3d85afc",
   "metadata": {},
   "source": [
    "* GITLAB\n",
    "* BITBUCKET\n",
    "* PHABRICATOR\n",
    "* GOGS\n",
    "* KALLITHEA"
   ]
  },
  {
   "cell_type": "markdown",
   "id": "e883b663",
   "metadata": {},
   "source": [
    "# Sistema de três estados\n",
    "[(Voltar para o sumário)](#Sumário:)"
   ]
  },
  {
   "cell_type": "markdown",
   "id": "35220c15",
   "metadata": {},
   "source": [
    "Existem três estados nos quais um código pode se encontrar:\n",
    "\n",
    "<br>\n",
    "\n",
    "* 1° - ESTADO MODIFICADO – Indica que um arquivo sofreu alterações e que estão diferentes em relação a última versão que está armazenada no banco de dados. SNAPSHOT ATUAL no qual o trabalho é feito no momento. São arquivos adicionados, modificados ou removidos no diretório de trabalho (WORKING AREA). (STATUS MODIFIED - Modificado/ UNTRACKED – Não rastreado)\n",
    "\n",
    "<br>\n",
    "\n",
    "* 2° - ESTADO PREPARADO – Os arquivos modificados são marcados em sua versão atual, pronta para ser armazenada no banco de dados. Os arquivos entram neste estado após uma instrução GIT ADD. Arquivos no STAGING AREA ou INDEX (Área de preparação antes de ser consolidado). (STATUS STAGED) OBS: Para retornar para o estado modificado, escreva: GIT RM - - CACHED < “Arquivo.extensão” > \n",
    "\n",
    "<br>\n",
    "\n",
    "* 3° - ESTADO CONSOLIDADO – Dados são salvos no REPOSITÓRIO (Banco de Dados) onde o histórico é armazenado (Contendo o estado dos arquivos salvos), após a execução de uma instrução GIT COMMIT. Este estado é compartilhado. Arquivos no diretório do GIT. (STATUS UNMODIFIED)\n",
    "\n",
    "<br>\n",
    "\n",
    "O comando GIT STATUS + ENTER mostra o estado no qual os arquivos se encontram no momento. (Aparecerá algumas informações, como: Quais arquivos já estão no GitHub, quais arquivos não estão e se algum arquivo foi atualizado)"
   ]
  },
  {
   "cell_type": "markdown",
   "id": "529f1920",
   "metadata": {},
   "source": []
  },
  {
   "cell_type": "markdown",
   "id": "233f54f2",
   "metadata": {},
   "source": []
  },
  {
   "cell_type": "markdown",
   "id": "cf0a97dd",
   "metadata": {},
   "source": []
  },
  {
   "cell_type": "markdown",
   "id": "57c99231",
   "metadata": {},
   "source": []
  },
  {
   "cell_type": "markdown",
   "id": "8ec5e8b2",
   "metadata": {},
   "source": []
  },
  {
   "cell_type": "markdown",
   "id": "cc41492a",
   "metadata": {},
   "source": []
  },
  {
   "cell_type": "markdown",
   "id": "1e0232c7",
   "metadata": {},
   "source": []
  },
  {
   "cell_type": "markdown",
   "id": "57e4e0be",
   "metadata": {},
   "source": []
  },
  {
   "cell_type": "markdown",
   "id": "0714942b",
   "metadata": {},
   "source": []
  },
  {
   "cell_type": "markdown",
   "id": "0c5d60ac",
   "metadata": {},
   "source": []
  },
  {
   "cell_type": "markdown",
   "id": "8f64911e",
   "metadata": {},
   "source": []
  },
  {
   "cell_type": "markdown",
   "id": "62efa25e",
   "metadata": {},
   "source": []
  },
  {
   "cell_type": "markdown",
   "id": "30b6f8ec",
   "metadata": {},
   "source": []
  },
  {
   "cell_type": "markdown",
   "id": "1edbce77",
   "metadata": {},
   "source": []
  },
  {
   "cell_type": "markdown",
   "id": "0777e87b",
   "metadata": {},
   "source": []
  },
  {
   "cell_type": "markdown",
   "id": "107ad7ac",
   "metadata": {},
   "source": []
  },
  {
   "cell_type": "markdown",
   "id": "b00428a2",
   "metadata": {},
   "source": []
  },
  {
   "cell_type": "markdown",
   "id": "58a66f2e",
   "metadata": {},
   "source": []
  },
  {
   "cell_type": "markdown",
   "id": "e6b0df2d",
   "metadata": {},
   "source": []
  },
  {
   "cell_type": "markdown",
   "id": "bdc6839c",
   "metadata": {},
   "source": []
  },
  {
   "cell_type": "markdown",
   "id": "015c48e8",
   "metadata": {},
   "source": []
  },
  {
   "cell_type": "markdown",
   "id": "92882074",
   "metadata": {},
   "source": []
  },
  {
   "cell_type": "markdown",
   "id": "09229243",
   "metadata": {},
   "source": []
  },
  {
   "cell_type": "markdown",
   "id": "ecb12fd8",
   "metadata": {},
   "source": []
  },
  {
   "cell_type": "markdown",
   "id": "f35ef9d9",
   "metadata": {},
   "source": [
    "# Referência \n",
    "[(Voltar para o sumário)](#Sumário:)"
   ]
  },
  {
   "cell_type": "markdown",
   "id": "d3371a21",
   "metadata": {},
   "source": [
    "> https://cursos.ead.education/"
   ]
  }
 ],
 "metadata": {
  "kernelspec": {
   "display_name": "Python 3 (ipykernel)",
   "language": "python",
   "name": "python3"
  },
  "language_info": {
   "codemirror_mode": {
    "name": "ipython",
    "version": 3
   },
   "file_extension": ".py",
   "mimetype": "text/x-python",
   "name": "python",
   "nbconvert_exporter": "python",
   "pygments_lexer": "ipython3",
   "version": "3.9.12"
  }
 },
 "nbformat": 4,
 "nbformat_minor": 5
}
